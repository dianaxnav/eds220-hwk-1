{
 "cells": [
  {
   "cell_type": "markdown",
   "id": "cd520f94-aacb-4edc-b6ea-83d8f26eadb4",
   "metadata": {},
   "source": [
    "## Datasheets for datasets \n",
    "\n",
    "**Do you think there is a particular kind of data that may benefit the most from increased transparency about collection methods and processing methods? Why?**\n",
    "\n",
    "A particular instance where this could be interesting is science supported by large pharmaceutical companies. The healthcare industry is a multi-billion dollar industry and most of that revenue come from us. Projects funded by these companies (data creators) is concerning, given that the data consumers is the same industry funding them. Would transparency between the general population and the data creators (& consumers) benefit us at all? Datsheets is a credible idea, and in theory, could work. However, implementing this into different sectors may not prove to make a difference because of the leverage some of these companies hold in policy. The same thing could apply to the enironmental field. In the article, ***Exxon Knew about Climate Change almost 40 years ago***, Exxon knew about climate change 11 years before it became an environmental concern, and spent millions funding misinformation. Funnily enough, we have already seen how this played out."
   ]
  },
  {
   "cell_type": "markdown",
   "id": "700d27a7-ae60-4f60-b855-e1923b6be36a",
   "metadata": {},
   "source": [
    "CITATIONS:\n",
    "\n",
    "Gebru, T., Morgenstern, J., Vecchione, B., Vaughan, J. W., Wallach, H., Iii, H. D., & Crawford, K. (2021). Datasheets for datasets. Communications of the ACM, 64(12), 86–92. https://doi.org/10.1145/3458723\n",
    "\n",
    "Hall, S. (2015, October 26). Exxon Knew about Climate Change almost 40 years ago. Scientific American. https://www.scientificamerican.com/article/exxon-knew-about-climate-change-almost-40-years-ago/"
   ]
  }
 ],
 "metadata": {
  "kernelspec": {
   "display_name": "Anaconda 3 (Base)",
   "language": "python",
   "name": "base"
  },
  "language_info": {
   "codemirror_mode": {
    "name": "ipython",
    "version": 3
   },
   "file_extension": ".py",
   "mimetype": "text/x-python",
   "name": "python",
   "nbconvert_exporter": "python",
   "pygments_lexer": "ipython3",
   "version": "3.9.13"
  }
 },
 "nbformat": 4,
 "nbformat_minor": 5
}
